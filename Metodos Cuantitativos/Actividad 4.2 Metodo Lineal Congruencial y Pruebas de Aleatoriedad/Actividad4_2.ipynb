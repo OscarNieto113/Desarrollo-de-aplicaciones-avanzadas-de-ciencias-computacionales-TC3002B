{
  "cells": [
    {
      "cell_type": "markdown",
      "metadata": {
        "id": "2nc975bv0bb6"
      },
      "source": [
        "# Initial Setup"
      ]
    },
    {
      "cell_type": "code",
      "execution_count": 1,
      "metadata": {
        "id": "bFzubcsv3yXF"
      },
      "outputs": [],
      "source": [
        "\"\"\"\n",
        "Armando Gutiérrez Rojo A01702748\n",
        "Oscar Eduardo Nieto Espitia A01705090\n",
        "Miguel Weiping Tang A01610836\n",
        "\n",
        "\"\"\"\n",
        "import math\n",
        "\n",
        "SEED = 6\n",
        "MULTIPLIER = 32\n",
        "INCREMENT = 3\n",
        "MODULUS = 80\n",
        "COUNT = 10"
      ]
    },
    {
      "cell_type": "code",
      "execution_count": 2,
      "metadata": {
        "id": "BA8bIvkY0OKk"
      },
      "outputs": [],
      "source": [
        "def read_data_from_file(filename):\n",
        "    data = []\n",
        "    with open(filename, 'r') as file:\n",
        "        for line in file:\n",
        "            data.append(float(line.strip()))\n",
        "    return data"
      ]
    },
    {
      "cell_type": "markdown",
      "metadata": {
        "id": "nCra-r3x0hR9"
      },
      "source": [
        "# Problem 1 LCG"
      ]
    },
    {
      "cell_type": "code",
      "execution_count": 3,
      "metadata": {
        "id": "IB7t1R_fzh32"
      },
      "outputs": [],
      "source": [
        "\"\"\"\n",
        "  Problem 1 LCG\n",
        "\"\"\"\n",
        "def lcg(seed, multiplier, increment, modulus, count):\n",
        "    \"\"\"\n",
        "    Generates a sequence of pseudo-random numbers using the Linear Congruential Generator (LCG) method.\n",
        "\n",
        "    Args:\n",
        "    - seed: Initial value (seed) for number generation.\n",
        "    - multiplier: Multiplier for calculating the next number.\n",
        "    - increment: Constant value added in each iteration.\n",
        "    - modulus: Modulus that determines the range of the generated numbers.\n",
        "    - count: Number of values to generate.\n",
        "\n",
        "    Returns:\n",
        "    - numbers: List of generated pseudo-random numbers.\n",
        "    \"\"\"\n",
        "    numbers = []\n",
        "    x = seed\n",
        "    for _ in range(count):\n",
        "        x = (multiplier * x + increment) % modulus\n",
        "        numbers.append(x / modulus)\n",
        "    return numbers"
      ]
    },
    {
      "cell_type": "markdown",
      "metadata": {
        "id": "goHesOn_0lLT"
      },
      "source": [
        "# Problem 2 Chi Squared"
      ]
    },
    {
      "cell_type": "code",
      "execution_count": 4,
      "metadata": {
        "id": "yr3CeSBEznNE"
      },
      "outputs": [],
      "source": [
        "\"\"\"\n",
        "  Problem 2 Chi Squared Test\n",
        "\"\"\"\n",
        "def create_intervals(step=0.1, precision=4):\n",
        "    \"\"\"\n",
        "    Create a list of intervals based on a given step size and precision.\n",
        "\n",
        "    Args:\n",
        "    - step: The size of each interval.\n",
        "    - precision: The number of decimal places to round to.\n",
        "\n",
        "    Returns:\n",
        "    - intervals: A list of intervals represented as [start, end] pairs.\n",
        "    \"\"\"\n",
        "    intervals = []\n",
        "    interval_start = 0\n",
        "    for _ in range(10):\n",
        "        interval_end = round(interval_start + step, precision)\n",
        "        intervals.append([interval_start, interval_end])\n",
        "        interval_start = interval_end\n",
        "    return intervals"
      ]
    },
    {
      "cell_type": "code",
      "execution_count": 5,
      "metadata": {
        "id": "Hc8jIlU8zyp1"
      },
      "outputs": [],
      "source": [
        "def calculate_frequencies(data, intervals):\n",
        "    \"\"\"\n",
        "    Calculate the frequency of numbers in the data within each interval.\n",
        "\n",
        "    Args:\n",
        "    - data: A list of numbers.\n",
        "    - intervals: A list of intervals represented as [start, end] pairs.\n",
        "\n",
        "    Returns:\n",
        "    - frequencies: A list of frequencies corresponding to each interval.\n",
        "    \"\"\"\n",
        "    frequencies = [0] * len(intervals)\n",
        "    for num in data:\n",
        "        for i, (start, end) in enumerate(intervals):\n",
        "            if start <= num < end:\n",
        "                frequencies[i] += 1\n",
        "    return frequencies"
      ]
    },
    {
      "cell_type": "code",
      "execution_count": 6,
      "metadata": {
        "id": "DwMvsAoFz19Q"
      },
      "outputs": [],
      "source": [
        "def calculate_chi_square(frequencies):\n",
        "    \"\"\"\n",
        "    Calculate the chi-squared value for the given frequencies.\n",
        "\n",
        "    Args:\n",
        "    - frequencies: A list of observed frequencies.\n",
        "\n",
        "    Returns:\n",
        "    - chi_square: The chi-squared value.\n",
        "    \"\"\"\n",
        "    expected = sum(frequencies) / len(frequencies)\n",
        "    chi_square = sum((observed - expected) ** 2 / expected for observed in frequencies)\n",
        "    return chi_square"
      ]
    },
    {
      "cell_type": "code",
      "execution_count": 7,
      "metadata": {
        "id": "DuGTt1h_z1-N"
      },
      "outputs": [],
      "source": [
        "def print_results(intervals, frequencies, chi_square, chi_critical=16.91):\n",
        "    \"\"\"\n",
        "    Print the results of the chi-squared test.\n",
        "\n",
        "    Args:\n",
        "    - intervals: A list of intervals.\n",
        "    - frequencies: A list of observed frequencies.\n",
        "    - chi_square: The calculated chi-squared value.\n",
        "    - chi_critical: The critical chi-squared value for the hypothesis test.\n",
        "\n",
        "    Returns:\n",
        "    - None\n",
        "    \"\"\"\n",
        "    print(\"Chi-squared test\")\n",
        "    print(\"Intervals\\tObserved\\tExpected\\t(O - E)^2 / E\")\n",
        "    expected = sum(frequencies) / len(frequencies)\n",
        "    for (start, end), observed in zip(intervals, frequencies):\n",
        "        o_minus_e_squared = (observed - expected) ** 2 / expected\n",
        "        print(f\"[{start:.4f} - {end:.4f})\\t{observed}\\t\\t{expected:.4f}\\t\\t{o_minus_e_squared:.4f}\")\n",
        "    print(\"--------------------Suma:\", sum(frequencies), f\"---------------------\\tχ^2 = {round(chi_square, 4)}\")\n",
        "\n",
        "    # Perform the hypothesis test\n",
        "    hypothesis_result = \"rejected\" if chi_square > chi_critical else \"not rejected\"\n",
        "    print(f\"\\nH0: Generated numbers are not different from the uniform distribution\")\n",
        "    print(f\"H1: Generated numbers are different from the uniform distribution\\n\")\n",
        "    print(f\"Since {round(chi_square, 4)} > {chi_critical}, H0 is {hypothesis_result}\")"
      ]
    },
    {
      "cell_type": "code",
      "execution_count": 8,
      "metadata": {
        "id": "2paKq8vUz9b6"
      },
      "outputs": [],
      "source": [
        "def chi_square_test(data):\n",
        "    \"\"\"\n",
        "    Perform the chi-squared test on the given data.\n",
        "\n",
        "    Args:\n",
        "    - data: A list of numbers.\n",
        "\n",
        "    Returns:\n",
        "    - None\n",
        "    \"\"\"\n",
        "    intervals = create_intervals()\n",
        "    frequencies = calculate_frequencies(data, intervals)\n",
        "    chi_square = calculate_chi_square(frequencies)\n",
        "    print_results(intervals, frequencies, chi_square)"
      ]
    },
    {
      "cell_type": "markdown",
      "metadata": {
        "id": "9qJoF5Fx0o2A"
      },
      "source": [
        "# Problem 3 Run Test"
      ]
    },
    {
      "cell_type": "code",
      "execution_count": 9,
      "metadata": {
        "id": "oGYzII1A0BUE"
      },
      "outputs": [],
      "source": [
        "\"\"\"\n",
        "  Problem 3 Run Test\n",
        "\"\"\"\n",
        "def calculate_statistics(signs):\n",
        "    \"\"\"\n",
        "    Calculate the statistics for the streaks.\n",
        "\n",
        "    Args:\n",
        "    - signs: A list of signs.\n",
        "\n",
        "    Returns:\n",
        "    - A tuple containing the mean, standard deviation, and z-score.\n",
        "    \"\"\"\n",
        "    miu = (2 * len(signs) - 1) / 3\n",
        "    sigma = math.sqrt((16 * len(signs) - 29) / 90)\n",
        "    streaks = 1\n",
        "    for i in range(len(signs) - 1):\n",
        "        if signs[i] != signs[i + 1]:\n",
        "            streaks += 1\n",
        "    z_score = (streaks - miu) / sigma\n",
        "    return miu, sigma, z_score, streaks"
      ]
    },
    {
      "cell_type": "code",
      "execution_count": 10,
      "metadata": {
        "id": "0W7l8jSt0E9-"
      },
      "outputs": [],
      "source": [
        "def print_results2(signs, miu, sigma, z_score, streaks):\n",
        "    \"\"\"\n",
        "    Print the results of the streaks calculation.\n",
        "\n",
        "    Args:\n",
        "    - signs: A list of signs.\n",
        "    - miu: The mean.\n",
        "    - sigma: The standard deviation.\n",
        "    - z_score: The z-score.\n",
        "    - streaks: The number of streaks.\n",
        "\n",
        "    Returns:\n",
        "    - None\n",
        "    \"\"\"\n",
        "    # Print generated signs\n",
        "    print(\"Generated signs:\")\n",
        "    print(\" \".join(signs))\n",
        "    print(\"\\ntotal signs:\", len(signs))\n",
        "    print(\"total runs:\", streaks)\n",
        "\n",
        "    # Print statistics\n",
        "    print(\"\\nStatistics\")\n",
        "    print(f\"Miu = {miu:.4f}\")\n",
        "    print(f\"Sigma = {sigma:.5f}\")\n",
        "    print(f\"Zscore = {z_score:.6f}\\n\")\n",
        "\n",
        "    # Perform and print the hypothesis test\n",
        "    hypothesis_result = \"not rejected\" if abs(z_score) < 1.96 else \"rejected\"\n",
        "    print(\"H0: Appearance of the numbers is random\")\n",
        "    print(\"H1: Appearance of the numbers is not random\")\n",
        "    print(f\"Since |{z_score:.6f}| < |1.96|, H0 is {hypothesis_result}\")"
      ]
    },
    {
      "cell_type": "code",
      "execution_count": 11,
      "metadata": {
        "id": "utVueW1S0E0w"
      },
      "outputs": [],
      "source": [
        "def get_streaks(data):\n",
        "    \"\"\"\n",
        "    Calculate the streaks in the given data.\n",
        "\n",
        "    Args:\n",
        "    - data: A list of numbers.\n",
        "\n",
        "    Returns:\n",
        "    - None\n",
        "    \"\"\"\n",
        "    signs = ['+' if data[i] <= data[i + 1] else '-' for i in range(len(data) - 1)]\n",
        "    miu, sigma, z_score, streaks = calculate_statistics(signs)\n",
        "    print_results2(signs, miu, sigma, z_score, streaks)"
      ]
    },
    {
      "cell_type": "markdown",
      "metadata": {
        "id": "8mj65JmF0snB"
      },
      "source": [
        "# Problem Outputs and conclusions"
      ]
    },
    {
      "cell_type": "code",
      "execution_count": 12,
      "metadata": {
        "colab": {
          "base_uri": "https://localhost:8080/"
        },
        "id": "7HpCu7Ul0Ve9",
        "outputId": "4f4befb5-3bb9-4f3c-fb82-cc5c455e056b"
      },
      "outputs": [
        {
          "name": "stdout",
          "output_type": "stream",
          "text": [
            "Linear congrential method: \n",
            " The numbers are: [0.4375, 0.0375, 0.2375, 0.6375, 0.4375, 0.0375, 0.2375, 0.6375, 0.4375, 0.0375] \n",
            "\n",
            "Chi-squared test\n",
            "Intervals\tObserved\tExpected\t(O - E)^2 / E\n",
            "[0.0000 - 0.1000)\t0\t\t3.0000\t\t3.0000\n",
            "[0.1000 - 0.2000)\t3\t\t3.0000\t\t0.0000\n",
            "[0.2000 - 0.3000)\t3\t\t3.0000\t\t0.0000\n",
            "[0.3000 - 0.4000)\t4\t\t3.0000\t\t0.3333\n",
            "[0.4000 - 0.5000)\t5\t\t3.0000\t\t1.3333\n",
            "[0.5000 - 0.6000)\t6\t\t3.0000\t\t3.0000\n",
            "[0.6000 - 0.7000)\t0\t\t3.0000\t\t3.0000\n",
            "[0.7000 - 0.8000)\t2\t\t3.0000\t\t0.3333\n",
            "[0.8000 - 0.9000)\t7\t\t3.0000\t\t5.3333\n",
            "[0.9000 - 1.0000)\t0\t\t3.0000\t\t3.0000\n",
            "--------------------Suma: 30 ---------------------\tχ^2 = 19.3333\n",
            "\n",
            "H0: Generated numbers are not different from the uniform distribution\n",
            "H1: Generated numbers are different from the uniform distribution\n",
            "\n",
            "Since 19.3333 > 16.91, H0 is rejected\n",
            "Generated signs:\n",
            "+ - - + - + - + + + + + -\n",
            "\n",
            "total signs: 13\n",
            "total runs: 8\n",
            "\n",
            "Statistics\n",
            "Miu = 8.3333\n",
            "Sigma = 1.41028\n",
            "Zscore = -0.236360\n",
            "\n",
            "H0: Appearance of the numbers is random\n",
            "H1: Appearance of the numbers is not random\n",
            "Since |-0.236360| < |1.96|, H0 is not rejected\n"
          ]
        }
      ],
      "source": [
        "\"\"\"\n",
        "Problem Outputs and Conclusions\n",
        "\"\"\"\n",
        "\n",
        "random_numbers = lcg(SEED, MULTIPLIER, INCREMENT, MODULUS, COUNT)\n",
        "print(f\"Linear congrential method: \\n The numbers are: {random_numbers} \\n\")\n",
        "chi_square_test(read_data_from_file(\"chi_data.txt\"))\n",
        "get_streaks(read_data_from_file(\"runs_data.txt\"))"
      ]
    }
  ],
  "metadata": {
    "colab": {
      "provenance": []
    },
    "kernelspec": {
      "display_name": "Python 3",
      "name": "python3"
    },
    "language_info": {
      "codemirror_mode": {
        "name": "ipython",
        "version": 3
      },
      "file_extension": ".py",
      "mimetype": "text/x-python",
      "name": "python",
      "nbconvert_exporter": "python",
      "pygments_lexer": "ipython3",
      "version": "3.12.3"
    }
  },
  "nbformat": 4,
  "nbformat_minor": 0
}
