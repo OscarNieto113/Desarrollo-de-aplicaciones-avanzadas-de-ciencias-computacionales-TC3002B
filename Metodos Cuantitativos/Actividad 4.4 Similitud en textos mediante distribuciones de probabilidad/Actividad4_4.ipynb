{
 "cells": [
  {
   "cell_type": "code",
   "execution_count": 13,
   "metadata": {},
   "outputs": [],
   "source": [
    "import markovify\n",
    "from sklearn.feature_extraction.text import TfidfVectorizer\n",
    "from sklearn.metrics.pairwise import cosine_similarity\n"
   ]
  },
  {
   "cell_type": "markdown",
   "metadata": {},
   "source": [
    "1. Selecciona un cuerpo de texto de interés (extensión .txt). "
   ]
  },
  {
   "cell_type": "code",
   "execution_count": 15,
   "metadata": {},
   "outputs": [],
   "source": [
    "def read_text(file_path):\n",
    "    \"\"\"\n",
    "    Reads the text from the specified file.\n",
    "\n",
    "    Parameters:\n",
    "    file_path (str): The path to the text file.\n",
    "\n",
    "    Returns:\n",
    "    str: The content of the file as a single string.\n",
    "    \"\"\"\n",
    "    with open(file_path, \"r\", encoding=\"utf-8\") as file:\n",
    "        return file.read()\n",
    "\n",
    "def save_text(file_path, text):\n",
    "    \"\"\"\n",
    "    Saves the given text to a file.\n",
    "\n",
    "    Parameters:\n",
    "    file_path (str): The path to the file where the text will be saved.\n",
    "    text (str): The text to save.\n",
    "    \"\"\"\n",
    "    with open(file_path, \"w\", encoding=\"utf-8\") as file:\n",
    "        file.write(text)"
   ]
  },
  {
   "cell_type": "markdown",
   "metadata": {},
   "source": [
    "2. Genera un cuerpo de texto sintético utilizando herramientas como MarkovifyLinks to an external site. "
   ]
  },
  {
   "cell_type": "code",
   "execution_count": 14,
   "metadata": {},
   "outputs": [],
   "source": [
    "def generate_synthetic_text(model, num_sentences=100):\n",
    "    \"\"\"\n",
    "    Generates synthetic text using a Markov model.\n",
    "\n",
    "    Parameters:\n",
    "    model (markovify.Text): The Markov model generated from the original text.\n",
    "    num_sentences (int): The number of sentences to generate.\n",
    "\n",
    "    Returns:\n",
    "    str: The generated synthetic text as a single string.\n",
    "    \"\"\"\n",
    "    synthetic_text = \"\"\n",
    "    for _ in range(num_sentences):\n",
    "        sentence = model.make_sentence()\n",
    "        if sentence is not None:\n",
    "            synthetic_text += sentence + \" \"\n",
    "    return synthetic_text"
   ]
  },
  {
   "cell_type": "markdown",
   "metadata": {},
   "source": [
    "3. Transforma el cuerpo de texto original y el sintético a una representación vectorial, por ejemplo tf–idf."
   ]
  },
  {
   "cell_type": "code",
   "execution_count": null,
   "metadata": {},
   "outputs": [],
   "source": [
    "def transform_to_tfidf_vector(texts):\n",
    "    \"\"\"\n",
    "    Transforms a list of texts into TF-IDF vectors.\n",
    "\n",
    "    Parameters:\n",
    "    texts (list of str): A list of texts to transform.\n",
    "\n",
    "    Returns:\n",
    "    scipy.sparse.csr.csr_matrix: The TF-IDF vectors.\n",
    "    \"\"\"\n",
    "    vectorizer = TfidfVectorizer()\n",
    "    tfidf_matrix = vectorizer.fit_transform(texts)\n",
    "    return tfidf_matrix\n",
    "\n",
    "def calculate_cosine_similarity(tfidf_matrix):\n",
    "    \"\"\"\n",
    "    Calculates the cosine similarity between two TF-IDF vectors.\n",
    "\n",
    "    Parameters:\n",
    "    tfidf_matrix (scipy.sparse.csr.csr_matrix): The TF-IDF matrix containing vectors of two texts.\n",
    "\n",
    "    Returns:\n",
    "    float: The cosine similarity score between the two texts.\n",
    "    \"\"\"\n",
    "    cosine_sim = cosine_similarity(tfidf_matrix[0:1], tfidf_matrix[1:2])\n",
    "    return cosine_sim[0][0]"
   ]
  },
  {
   "cell_type": "code",
   "execution_count": 16,
   "metadata": {},
   "outputs": [],
   "source": [
    "ORIGINAL_TEXT = read_text(\"texto.txt\")\n",
    "SYNTETIC_TEXT = \"texto_sintetico.txt\"\n",
    "\n",
    "markov_model = markovify.Text(ORIGINAL_TEXT) # Build the Markov model\n",
    "synthetic_text = generate_synthetic_text(markov_model, num_sentences=100)\n",
    "\n",
    "save_text(SYNTETIC_TEXT, synthetic_text)"
   ]
  }
 ],
 "metadata": {
  "kernelspec": {
   "display_name": "Python 3",
   "language": "python",
   "name": "python3"
  },
  "language_info": {
   "codemirror_mode": {
    "name": "ipython",
    "version": 3
   },
   "file_extension": ".py",
   "mimetype": "text/x-python",
   "name": "python",
   "nbconvert_exporter": "python",
   "pygments_lexer": "ipython3",
   "version": "3.12.3"
  }
 },
 "nbformat": 4,
 "nbformat_minor": 2
}
