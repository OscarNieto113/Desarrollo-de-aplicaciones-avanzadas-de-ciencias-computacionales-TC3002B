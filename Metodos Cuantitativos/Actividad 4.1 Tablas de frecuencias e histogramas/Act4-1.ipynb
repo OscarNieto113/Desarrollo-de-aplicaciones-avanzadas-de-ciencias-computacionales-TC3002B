{
 "cells": [
  {
   "cell_type": "markdown",
   "metadata": {},
   "source": [
    "Escribe un programa que construya la tabla de frecuencias de un conjunto de datos. Además, tu programa deberá graficar el histograma."
   ]
  },
  {
   "cell_type": "code",
   "execution_count": 1,
   "metadata": {},
   "outputs": [],
   "source": [
    "import math\n",
    "import matplotlib.pyplot as plt\n",
    "import numpy as np\n",
    "\n",
    "FILE_PATH = './data01.txt'\n",
    "DECIMALS = 3"
   ]
  },
  {
   "cell_type": "code",
   "execution_count": 2,
   "metadata": {},
   "outputs": [],
   "source": [
    "with open(FILE_PATH, 'r') as file:\n",
    "    lines = file.readlines()\n",
    "    num_array = [float(line.strip()) for line in lines]"
   ]
  },
  {
   "cell_type": "markdown",
   "metadata": {},
   "source": [
    "- N: Representa la cantidad total de elementos en los datos.\n",
    "\n",
    "- C: Es el número de clases que se calcula utilizando la fórmula 1 + (3.3 * math.log10(N)). Esta fórmula es una aproximación de la regla de Sturges, que se utiliza para determinar el número óptimo de clases en un histograma. Se redondea el valor de C hacia arriba para asegurar que sea un número entero.\n",
    "\n",
    "- minNum y maxNum: Son los valores mínimo y máximo de la lista num_array, respectivamente, redondeados al número de decimales especificado en DECIMALS.\n",
    "\n",
    "- W: Es el ancho de clase, que se calcula como el rango de los datos (maxNum - minNum) dividido por el número de clases (C). Este valor se redondea al número de decimales especificado en DECIMALS."
   ]
  },
  {
   "cell_type": "code",
   "execution_count": 3,
   "metadata": {},
   "outputs": [
    {
     "name": "stdout",
     "output_type": "stream",
     "text": [
      "\n",
      "Datos:\n",
      "  Número total de elementos (N): 998\n",
      "  Rango de la muestra: 0.0 - 1.0\n",
      "  Número de clases (C): 11\n",
      "  Ancho de clase (W): 0.091\n",
      "\n"
     ]
    }
   ],
   "source": [
    "N = len(num_array)\n",
    "C = math.ceil(1 + (3.3 * math.log10(N)))\n",
    "\n",
    "minNum, maxNum = round(min(num_array), DECIMALS), round(max(num_array), DECIMALS)\n",
    "W = round((maxNum - minNum) / C, DECIMALS)\n",
    "\n",
    "print(f\"\"\"\n",
    "Datos:\n",
    "  Número total de elementos (N): {N}\n",
    "  Rango de la muestra: {minNum} - {maxNum}\n",
    "  Número de clases (C): {C}\n",
    "  Ancho de clase (W): {W}\n",
    "\"\"\")"
   ]
  },
  {
   "cell_type": "markdown",
   "metadata": {},
   "source": [
    "Se itera sobre un rango que va desde 0 hasta C, donde C es el número de clases calculado anteriormente. En cada iteración, se calculan los límites del intervalo (intervalo_min y intervalo_max) basados en el ancho de clase W y el valor mínimo minNum. En la última iteración, si el intervalo final no abarca todo el rango de valores, se ajusta intervalo_max para que sea igual al valor máximo maxNum.\n",
    "\n",
    "Se calcula la frecuencia de los datos que caen dentro de cada intervalo."
   ]
  },
  {
   "cell_type": "code",
   "execution_count": 6,
   "metadata": {},
   "outputs": [
    {
     "name": "stdout",
     "output_type": "stream",
     "text": [
      "[0.0 - 0.091) --> 92\n",
      "[0.091 - 0.182) --> 94\n",
      "[0.182 - 0.273) --> 91\n",
      "[0.273 - 0.364) --> 92\n",
      "[0.364 - 0.45499999999999996) --> 96\n",
      "[0.45499999999999996 - 0.546) --> 90\n",
      "[0.546 - 0.637) --> 76\n",
      "[0.637 - 0.728) --> 78\n",
      "[0.728 - 0.819) --> 87\n",
      "[0.819 - 0.9099999999999999) --> 110\n",
      "[0.9099999999999999 - 1.0) --> 92\n"
     ]
    },
    {
     "data": {
      "image/png": "[encoded data removed]",
      "text/plain": [
       "<Figure size 640x480 with 1 Axes>"
      ]
     },
     "metadata": {},
     "output_type": "display_data"
    }
   ],
   "source": [
    "intervalos = []\n",
    "\n",
    "for i in range(C):\n",
    "    intervalo_min = minNum + i * W\n",
    "    intervalo_max = minNum + (i + 1) * W\n",
    "    if i == C - 1:\n",
    "        intervalo_max = maxNum\n",
    "    count_interval = sum(1 for num in num_array if intervalo_min <= num < intervalo_max)\n",
    "    intervalos.append((intervalo_min, intervalo_max, count_interval))\n",
    "    print(f\"[{intervalo_min} - {intervalo_max}) --> {count_interval}\")\n",
    "\n",
    "plt.hist(num_array, bins=(C + 1), edgecolor='black', rwidth=0.8)\n",
    "plt.ylabel('Frecuencia')\n",
    "plt.xlabel('Valores')\n",
    "plt.show()"
   ]
  }
 ],
 "metadata": {
  "kernelspec": {
   "display_name": "Python 3",
   "language": "python",
   "name": "python3"
  },
  "language_info": {
   "codemirror_mode": {
    "name": "ipython",
    "version": 3
   },
   "file_extension": ".py",
   "mimetype": "text/x-python",
   "name": "python",
   "nbconvert_exporter": "python",
   "pygments_lexer": "ipython3",
   "version": "3.12.2"
  }
 },
 "nbformat": 4,
 "nbformat_minor": 2
}
